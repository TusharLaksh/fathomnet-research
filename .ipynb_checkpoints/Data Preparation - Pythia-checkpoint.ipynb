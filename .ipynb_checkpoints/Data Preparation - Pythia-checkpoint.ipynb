{
 "cells": [
  {
   "cell_type": "code",
   "execution_count": 5,
   "id": "9f15ad10",
   "metadata": {
    "collapsed": true
   },
   "outputs": [
    {
     "name": "stdout",
     "output_type": "stream",
     "text": [
      "Collecting pandas\n",
      "  Using cached pandas-1.3.5-cp37-cp37m-win_amd64.whl (10.0 MB)\n",
      "Requirement already satisfied: fathomnet in c:\\users\\tusha\\documents\\personal projects\\projenv\\lib\\site-packages (0.6.0)\n",
      "Collecting datetime\n",
      "  Downloading DateTime-5.1-py3-none-any.whl (52 kB)\n",
      "Collecting pytz>=2017.3\n",
      "  Downloading pytz-2023.3-py2.py3-none-any.whl (502 kB)\n",
      "Requirement already satisfied: numpy>=1.17.3; platform_machine != \"aarch64\" and platform_machine != \"arm64\" and python_version < \"3.10\" in c:\\users\\tusha\\appdata\\local\\programs\\python\\python37\\lib\\site-packages (from pandas) (1.21.6)\n",
      "Requirement already satisfied: python-dateutil>=2.7.3 in c:\\users\\tusha\\appdata\\local\\programs\\python\\python37\\lib\\site-packages (from pandas) (2.8.2)\n",
      "Requirement already satisfied: dataclasses-json<0.6.0,>=0.5.4 in c:\\users\\tusha\\documents\\personal projects\\projenv\\lib\\site-packages (from fathomnet) (0.5.7)\n",
      "Requirement already satisfied: progressbar2<4.0.0,>=3.37.0 in c:\\users\\tusha\\documents\\personal projects\\projenv\\lib\\site-packages (from fathomnet) (3.55.0)\n",
      "Requirement already satisfied: coco-lib<0.2.0,>=0.1.2 in c:\\users\\tusha\\documents\\personal projects\\projenv\\lib\\site-packages (from fathomnet) (0.1.3)\n",
      "Requirement already satisfied: requests<3.0.0,>=2.20.0 in c:\\users\\tusha\\appdata\\local\\programs\\python\\python37\\lib\\site-packages (from fathomnet) (2.28.2)\n",
      "Requirement already satisfied: lxml<5.0.0,>=4.6.0 in c:\\users\\tusha\\documents\\personal projects\\projenv\\lib\\site-packages (from fathomnet) (4.9.2)\n",
      "Collecting zope.interface\n",
      "  Downloading zope.interface-6.0-cp37-cp37m-win_amd64.whl (203 kB)\n",
      "Requirement already satisfied: six>=1.5 in c:\\users\\tusha\\appdata\\local\\programs\\python\\python37\\lib\\site-packages (from python-dateutil>=2.7.3->pandas) (1.16.0)\n",
      "Requirement already satisfied: typing-inspect>=0.4.0 in c:\\users\\tusha\\documents\\personal projects\\projenv\\lib\\site-packages (from dataclasses-json<0.6.0,>=0.5.4->fathomnet) (0.9.0)\n",
      "Requirement already satisfied: marshmallow-enum<2.0.0,>=1.5.1 in c:\\users\\tusha\\documents\\personal projects\\projenv\\lib\\site-packages (from dataclasses-json<0.6.0,>=0.5.4->fathomnet) (1.5.1)\n",
      "Requirement already satisfied: marshmallow<4.0.0,>=3.3.0 in c:\\users\\tusha\\documents\\personal projects\\projenv\\lib\\site-packages (from dataclasses-json<0.6.0,>=0.5.4->fathomnet) (3.19.0)\n",
      "Requirement already satisfied: python-utils>=2.3.0 in c:\\users\\tusha\\documents\\personal projects\\projenv\\lib\\site-packages (from progressbar2<4.0.0,>=3.37.0->fathomnet) (3.5.2)\n",
      "Requirement already satisfied: idna<4,>=2.5 in c:\\users\\tusha\\appdata\\local\\programs\\python\\python37\\lib\\site-packages (from requests<3.0.0,>=2.20.0->fathomnet) (3.4)\n",
      "Requirement already satisfied: charset-normalizer<4,>=2 in c:\\users\\tusha\\appdata\\local\\programs\\python\\python37\\lib\\site-packages (from requests<3.0.0,>=2.20.0->fathomnet) (3.1.0)\n",
      "Requirement already satisfied: certifi>=2017.4.17 in c:\\users\\tusha\\appdata\\local\\programs\\python\\python37\\lib\\site-packages (from requests<3.0.0,>=2.20.0->fathomnet) (2022.12.7)\n",
      "Requirement already satisfied: urllib3<1.27,>=1.21.1 in c:\\users\\tusha\\appdata\\local\\programs\\python\\python37\\lib\\site-packages (from requests<3.0.0,>=2.20.0->fathomnet) (1.26.14)\n",
      "Requirement already satisfied: setuptools in c:\\users\\tusha\\documents\\personal projects\\projenv\\lib\\site-packages (from zope.interface->datetime) (47.1.0)\n",
      "Requirement already satisfied: typing-extensions>=3.7.4 in c:\\users\\tusha\\appdata\\local\\programs\\python\\python37\\lib\\site-packages (from typing-inspect>=0.4.0->dataclasses-json<0.6.0,>=0.5.4->fathomnet) (4.5.0)\n",
      "Requirement already satisfied: mypy-extensions>=0.3.0 in c:\\users\\tusha\\documents\\personal projects\\projenv\\lib\\site-packages (from typing-inspect>=0.4.0->dataclasses-json<0.6.0,>=0.5.4->fathomnet) (1.0.0)\n",
      "Requirement already satisfied: packaging>=17.0 in c:\\users\\tusha\\appdata\\local\\programs\\python\\python37\\lib\\site-packages (from marshmallow<4.0.0,>=3.3.0->dataclasses-json<0.6.0,>=0.5.4->fathomnet) (23.0)\n",
      "Installing collected packages: pytz, pandas, zope.interface, datetime\n",
      "Successfully installed datetime-5.1 pandas-1.3.5 pytz-2023.3 zope.interface-6.0\n"
     ]
    },
    {
     "name": "stderr",
     "output_type": "stream",
     "text": [
      "WARNING: You are using pip version 20.1.1; however, version 23.1.2 is available.\n",
      "You should consider upgrading via the 'c:\\users\\tusha\\documents\\personal projects\\projenv\\scripts\\python.exe -m pip install --upgrade pip' command.\n"
     ]
    }
   ],
   "source": [
    "!pip install pandas fathomnet datetime"
   ]
  },
  {
   "cell_type": "code",
   "execution_count": 10,
   "id": "b203fb67",
   "metadata": {
    "collapsed": true
   },
   "outputs": [
    {
     "name": "stdout",
     "output_type": "stream",
     "text": [
      "Collecting openpyxl\n",
      "  Downloading openpyxl-3.1.2-py2.py3-none-any.whl (249 kB)\n",
      "Collecting et-xmlfile\n",
      "  Downloading et_xmlfile-1.1.0-py3-none-any.whl (4.7 kB)\n",
      "Installing collected packages: et-xmlfile, openpyxl\n",
      "Successfully installed et-xmlfile-1.1.0 openpyxl-3.1.2\n"
     ]
    },
    {
     "name": "stderr",
     "output_type": "stream",
     "text": [
      "WARNING: You are using pip version 20.1.1; however, version 23.1.2 is available.\n",
      "You should consider upgrading via the 'c:\\users\\tusha\\documents\\personal projects\\projenv\\scripts\\python.exe -m pip install --upgrade pip' command.\n"
     ]
    }
   ],
   "source": [
    "!pip install openpyxl"
   ]
  },
  {
   "cell_type": "code",
   "execution_count": 6,
   "id": "b1e7dc40",
   "metadata": {},
   "outputs": [],
   "source": [
    "import pandas as pd\n",
    "import fathomnet.api\n",
    "import os\n",
    "from datetime import datetime"
   ]
  },
  {
   "cell_type": "code",
   "execution_count": 7,
   "id": "a3c78c2e",
   "metadata": {},
   "outputs": [],
   "source": [
    "#Use kaggle dataset\n",
    "path = r\"D:\\Databases\\Earth Guardian's Weekly Feed\\Elasmobranchii\\Elasmobranchii.xlsx\""
   ]
  },
  {
   "cell_type": "code",
   "execution_count": 11,
   "id": "6e54408b",
   "metadata": {},
   "outputs": [],
   "source": [
    "occdf = pd.read_excel(path, 'occurrence')\n",
    "mediadf = pd.read_excel(path, 'multimedia')"
   ]
  },
  {
   "cell_type": "code",
   "execution_count": 12,
   "id": "183bd9eb",
   "metadata": {},
   "outputs": [],
   "source": [
    "occdf = occdf.dropna(how='all', axis = 1)\n",
    "mediadf = mediadf.dropna(how='all', axis = 1)"
   ]
  },
  {
   "cell_type": "code",
   "execution_count": 13,
   "id": "fe4f9966",
   "metadata": {},
   "outputs": [],
   "source": [
    "totaldf = pd.merge(occdf, mediadf, on='gbifID')"
   ]
  },
  {
   "cell_type": "code",
   "execution_count": 14,
   "id": "8546d3a5",
   "metadata": {
    "scrolled": true
   },
   "outputs": [
    {
     "data": {
      "text/plain": [
       "Index(['gbifID', 'identifier_x', 'license_x', 'basisOfRecord',\n",
       "       'dataGeneralizations', 'dynamicProperties', 'occurrenceID',\n",
       "       'recordNumber', 'recordedBy', 'occurrenceStatus', 'occurrenceRemarks',\n",
       "       'eventDate', 'year', 'month', 'day', 'continent', 'countryCode',\n",
       "       'stateProvince', 'decimalLatitude', 'decimalLongitude',\n",
       "       'coordinateUncertaintyInMeters', 'identifiedBy',\n",
       "       'identificationVerificationStatus', 'scientificNameID',\n",
       "       'taxonConceptID', 'scientificName', 'kingdom', 'phylum', 'class',\n",
       "       'order', 'family', 'genus', 'genericName', 'specificEpithet',\n",
       "       'taxonRank', 'vernacularName', 'taxonomicStatus', 'taxonRemarks',\n",
       "       'datasetKey', 'publishingCountry', 'lastInterpreted', 'issue',\n",
       "       'mediaType', 'hasCoordinate', 'hasGeospatialIssues', 'taxonKey',\n",
       "       'acceptedTaxonKey', 'kingdomKey', 'phylumKey', 'classKey', 'orderKey',\n",
       "       'familyKey', 'genusKey', 'speciesKey', 'species',\n",
       "       'acceptedScientificName', 'verbatimScientificName', 'protocol',\n",
       "       'lastParsed', 'lastCrawled', 'repatriated', 'level0Gid', 'level0Name',\n",
       "       'level1Gid', 'level1Name', 'level2Gid', 'level2Name', 'level3Gid',\n",
       "       'level3Name', 'iucnRedListCategory', 'type', 'format', 'identifier_y',\n",
       "       'creator', 'license_y'],\n",
       "      dtype='object')"
      ]
     },
     "execution_count": 14,
     "metadata": {},
     "output_type": "execute_result"
    }
   ],
   "source": [
    "totaldf.columns"
   ]
  },
  {
   "cell_type": "markdown",
   "id": "86752494",
   "metadata": {},
   "source": [
    "### MAIN GOAL: Combine multimedia and occurrence data, make it upload-ready with available data\n",
    "- Primary Data: \n",
    " - concept: Scientific Name, Class\n",
    "   - Scientific name preferred\n",
    " - url: Image URL\n",
    " - x: Bounding box X Coord\n",
    " - y: Bounding box Y Coord\n",
    " - width: Bounding Box Width (px)\n",
    " - height: Bounding Box Height (px)\n",
    "\n",
    "\n",
    "- Optional Data\n",
    " - altitude\n",
    "   - m\n",
    " - altconcept: Secondary name for localization\n",
    " - depth\n",
    "   - m\n",
    " - groupof: If box contains multiple or singular entity\n",
    "   - TRUE/FALSE\n",
    " - imagingtype: Any specialized imaging systems\n",
    " - latitude\n",
    "   - Btwn -90S to 90N\n",
    " - longitude\n",
    "   - Btwn -180W to 180E\n",
    " - observer: Name of person or program who created the localization\n",
    " - occluded: If object is occluded by another in an image\n",
    "   - TRUE/FALSE\n",
    " - oxygen: O2 concentration\n",
    "   - ml/L\n",
    " - pressure\n",
    "   - dbar\n",
    " - salinity\n",
    " - temperature\n",
    "   - Celsius\n",
    " - timestamp\n",
    "   - ISO 8601 format\n",
    " - truncated: If object extends beyond boundary of image\n",
    "   - TRUE/FALSE\n",
    " - uderdefinedkey: UUID\n",
    " - Any additional columns are added as key-value tags\n",
    " \n",
    "\n",
    "\n",
    "### 2nd GOAL: Integrate Pythia into code, can try and upload directly from link in multimedia CSV, read bounding box results from website and put the box coordinates into csv\n",
    "- For larger image sets, use integrated models to create bounding boxes\n",
    "- https://colab.research.google.com/github/fathomnet/fathomnet-py/blob/main/tutorial.ipynb#scrollTo=jrTNntfuGRLQ (use as referece)"
   ]
  },
  {
   "cell_type": "code",
   "execution_count": 15,
   "id": "7d993dbe",
   "metadata": {},
   "outputs": [],
   "source": [
    "cols = ['concept', 'url', 'x', 'y', 'width', 'height']"
   ]
  },
  {
   "cell_type": "code",
   "execution_count": 16,
   "id": "198adb55",
   "metadata": {},
   "outputs": [],
   "source": [
    "inputdf = pd.DataFrame(columns=cols)\n",
    "inputdf['concept'] = totaldf['verbatimScientificName']\n",
    "inputdf['url'] = totaldf['identifier_y']\n",
    "# inputdf['depth'] = totaldf['verbatimDepth']\n",
    "inputdf['latitude'] = totaldf['decimalLatitude']\n",
    "inputdf['longitude'] = totaldf['decimalLongitude']\n",
    "inputdf['timestamp'] = totaldf['eventDate'].apply(lambda x: x.isoformat())\n",
    "inputdf['notes'] = totaldf['occurrenceRemarks']"
   ]
  },
  {
   "cell_type": "code",
   "execution_count": 17,
   "id": "d718540c",
   "metadata": {
    "scrolled": true
   },
   "outputs": [
    {
     "data": {
      "text/html": [
       "<div>\n",
       "<style scoped>\n",
       "    .dataframe tbody tr th:only-of-type {\n",
       "        vertical-align: middle;\n",
       "    }\n",
       "\n",
       "    .dataframe tbody tr th {\n",
       "        vertical-align: top;\n",
       "    }\n",
       "\n",
       "    .dataframe thead th {\n",
       "        text-align: right;\n",
       "    }\n",
       "</style>\n",
       "<table border=\"1\" class=\"dataframe\">\n",
       "  <thead>\n",
       "    <tr style=\"text-align: right;\">\n",
       "      <th></th>\n",
       "      <th>concept</th>\n",
       "      <th>url</th>\n",
       "      <th>x</th>\n",
       "      <th>y</th>\n",
       "      <th>width</th>\n",
       "      <th>height</th>\n",
       "      <th>latitude</th>\n",
       "      <th>longitude</th>\n",
       "      <th>timestamp</th>\n",
       "      <th>notes</th>\n",
       "    </tr>\n",
       "  </thead>\n",
       "  <tbody>\n",
       "    <tr>\n",
       "      <th>0</th>\n",
       "      <td>Taeniura lymma</td>\n",
       "      <td>https://images.ala.org.au/image/proxyImageThum...</td>\n",
       "      <td>NaN</td>\n",
       "      <td>NaN</td>\n",
       "      <td>NaN</td>\n",
       "      <td>NaN</td>\n",
       "      <td>-16.932188</td>\n",
       "      <td>145.987183</td>\n",
       "      <td>2023-04-05T13:18:00</td>\n",
       "      <td>In the shallows of Fitzroy Island FNQ</td>\n",
       "    </tr>\n",
       "    <tr>\n",
       "      <th>1</th>\n",
       "      <td>Taeniura lymma</td>\n",
       "      <td>https://images.ala.org.au/image/proxyImageThum...</td>\n",
       "      <td>NaN</td>\n",
       "      <td>NaN</td>\n",
       "      <td>NaN</td>\n",
       "      <td>NaN</td>\n",
       "      <td>-16.932188</td>\n",
       "      <td>145.987183</td>\n",
       "      <td>2023-04-05T13:18:00</td>\n",
       "      <td>In the shallows of Fitzroy Island FNQ</td>\n",
       "    </tr>\n",
       "    <tr>\n",
       "      <th>2</th>\n",
       "      <td>Taeniura lymma</td>\n",
       "      <td>https://images.ala.org.au/image/proxyImageThum...</td>\n",
       "      <td>NaN</td>\n",
       "      <td>NaN</td>\n",
       "      <td>NaN</td>\n",
       "      <td>NaN</td>\n",
       "      <td>-16.932188</td>\n",
       "      <td>145.987183</td>\n",
       "      <td>2023-04-05T13:18:00</td>\n",
       "      <td>In the shallows of Fitzroy Island FNQ</td>\n",
       "    </tr>\n",
       "    <tr>\n",
       "      <th>3</th>\n",
       "      <td>Taeniura lymma</td>\n",
       "      <td>https://images.ala.org.au/image/proxyImageThum...</td>\n",
       "      <td>NaN</td>\n",
       "      <td>NaN</td>\n",
       "      <td>NaN</td>\n",
       "      <td>NaN</td>\n",
       "      <td>-16.932188</td>\n",
       "      <td>145.987183</td>\n",
       "      <td>2023-04-05T13:18:00</td>\n",
       "      <td>In the shallows of Fitzroy Island FNQ</td>\n",
       "    </tr>\n",
       "    <tr>\n",
       "      <th>4</th>\n",
       "      <td>Taeniura lymma</td>\n",
       "      <td>https://images.ala.org.au/image/proxyImageThum...</td>\n",
       "      <td>NaN</td>\n",
       "      <td>NaN</td>\n",
       "      <td>NaN</td>\n",
       "      <td>NaN</td>\n",
       "      <td>-16.932188</td>\n",
       "      <td>145.987183</td>\n",
       "      <td>2023-04-05T13:18:00</td>\n",
       "      <td>In the shallows of Fitzroy Island FNQ</td>\n",
       "    </tr>\n",
       "    <tr>\n",
       "      <th>...</th>\n",
       "      <td>...</td>\n",
       "      <td>...</td>\n",
       "      <td>...</td>\n",
       "      <td>...</td>\n",
       "      <td>...</td>\n",
       "      <td>...</td>\n",
       "      <td>...</td>\n",
       "      <td>...</td>\n",
       "      <td>...</td>\n",
       "      <td>...</td>\n",
       "    </tr>\n",
       "    <tr>\n",
       "      <th>978</th>\n",
       "      <td>Manta</td>\n",
       "      <td>https://images.ala.org.au/image/proxyImageThum...</td>\n",
       "      <td>NaN</td>\n",
       "      <td>NaN</td>\n",
       "      <td>NaN</td>\n",
       "      <td>NaN</td>\n",
       "      <td>-27.436437</td>\n",
       "      <td>153.546137</td>\n",
       "      <td>2016-09-21T19:31:00</td>\n",
       "      <td>It was in deep waters in a gorge walk</td>\n",
       "    </tr>\n",
       "    <tr>\n",
       "      <th>979</th>\n",
       "      <td>Orectolobus</td>\n",
       "      <td>https://images.ala.org.au/image/proxyImageThum...</td>\n",
       "      <td>NaN</td>\n",
       "      <td>NaN</td>\n",
       "      <td>NaN</td>\n",
       "      <td>NaN</td>\n",
       "      <td>-27.398803</td>\n",
       "      <td>153.437653</td>\n",
       "      <td>2016-09-19T17:38:00</td>\n",
       "      <td>We think might be a banded wobbegong. It was s...</td>\n",
       "    </tr>\n",
       "    <tr>\n",
       "      <th>980</th>\n",
       "      <td>Orectolobus</td>\n",
       "      <td>https://images.ala.org.au/image/proxyImageThum...</td>\n",
       "      <td>NaN</td>\n",
       "      <td>NaN</td>\n",
       "      <td>NaN</td>\n",
       "      <td>NaN</td>\n",
       "      <td>-27.398803</td>\n",
       "      <td>153.437653</td>\n",
       "      <td>2016-09-19T17:38:00</td>\n",
       "      <td>We think might be a banded wobbegong. It was s...</td>\n",
       "    </tr>\n",
       "    <tr>\n",
       "      <th>981</th>\n",
       "      <td>HETERODONTIDAE</td>\n",
       "      <td>https://images.ala.org.au/image/proxyImageThum...</td>\n",
       "      <td>NaN</td>\n",
       "      <td>NaN</td>\n",
       "      <td>NaN</td>\n",
       "      <td>NaN</td>\n",
       "      <td>-33.926870</td>\n",
       "      <td>137.618758</td>\n",
       "      <td>2016-09-08T21:21:00</td>\n",
       "      <td>NaN</td>\n",
       "    </tr>\n",
       "    <tr>\n",
       "      <th>982</th>\n",
       "      <td>HETERODONTIDAE</td>\n",
       "      <td>https://images.ala.org.au/image/proxyImageThum...</td>\n",
       "      <td>NaN</td>\n",
       "      <td>NaN</td>\n",
       "      <td>NaN</td>\n",
       "      <td>NaN</td>\n",
       "      <td>-33.926870</td>\n",
       "      <td>137.618758</td>\n",
       "      <td>2016-09-08T21:21:00</td>\n",
       "      <td>NaN</td>\n",
       "    </tr>\n",
       "  </tbody>\n",
       "</table>\n",
       "<p>983 rows × 10 columns</p>\n",
       "</div>"
      ],
      "text/plain": [
       "            concept                                                url    x  \\\n",
       "0    Taeniura lymma  https://images.ala.org.au/image/proxyImageThum...  NaN   \n",
       "1    Taeniura lymma  https://images.ala.org.au/image/proxyImageThum...  NaN   \n",
       "2    Taeniura lymma  https://images.ala.org.au/image/proxyImageThum...  NaN   \n",
       "3    Taeniura lymma  https://images.ala.org.au/image/proxyImageThum...  NaN   \n",
       "4    Taeniura lymma  https://images.ala.org.au/image/proxyImageThum...  NaN   \n",
       "..              ...                                                ...  ...   \n",
       "978           Manta  https://images.ala.org.au/image/proxyImageThum...  NaN   \n",
       "979     Orectolobus  https://images.ala.org.au/image/proxyImageThum...  NaN   \n",
       "980     Orectolobus  https://images.ala.org.au/image/proxyImageThum...  NaN   \n",
       "981  HETERODONTIDAE  https://images.ala.org.au/image/proxyImageThum...  NaN   \n",
       "982  HETERODONTIDAE  https://images.ala.org.au/image/proxyImageThum...  NaN   \n",
       "\n",
       "       y width height   latitude   longitude            timestamp  \\\n",
       "0    NaN   NaN    NaN -16.932188  145.987183  2023-04-05T13:18:00   \n",
       "1    NaN   NaN    NaN -16.932188  145.987183  2023-04-05T13:18:00   \n",
       "2    NaN   NaN    NaN -16.932188  145.987183  2023-04-05T13:18:00   \n",
       "3    NaN   NaN    NaN -16.932188  145.987183  2023-04-05T13:18:00   \n",
       "4    NaN   NaN    NaN -16.932188  145.987183  2023-04-05T13:18:00   \n",
       "..   ...   ...    ...        ...         ...                  ...   \n",
       "978  NaN   NaN    NaN -27.436437  153.546137  2016-09-21T19:31:00   \n",
       "979  NaN   NaN    NaN -27.398803  153.437653  2016-09-19T17:38:00   \n",
       "980  NaN   NaN    NaN -27.398803  153.437653  2016-09-19T17:38:00   \n",
       "981  NaN   NaN    NaN -33.926870  137.618758  2016-09-08T21:21:00   \n",
       "982  NaN   NaN    NaN -33.926870  137.618758  2016-09-08T21:21:00   \n",
       "\n",
       "                                                 notes  \n",
       "0                In the shallows of Fitzroy Island FNQ  \n",
       "1                In the shallows of Fitzroy Island FNQ  \n",
       "2                In the shallows of Fitzroy Island FNQ  \n",
       "3                In the shallows of Fitzroy Island FNQ  \n",
       "4                In the shallows of Fitzroy Island FNQ  \n",
       "..                                                 ...  \n",
       "978              It was in deep waters in a gorge walk  \n",
       "979  We think might be a banded wobbegong. It was s...  \n",
       "980  We think might be a banded wobbegong. It was s...  \n",
       "981                                                NaN  \n",
       "982                                                NaN  \n",
       "\n",
       "[983 rows x 10 columns]"
      ]
     },
     "execution_count": 17,
     "metadata": {},
     "output_type": "execute_result"
    }
   ],
   "source": [
    "#Input dataset w/o Bounding Boxes\n",
    "#Have a single output for pythia output just for testing before parsing through\n",
    "inputdf"
   ]
  },
  {
   "cell_type": "code",
   "execution_count": 18,
   "id": "22569d56",
   "metadata": {},
   "outputs": [
    {
     "data": {
      "text/plain": [
       "'https://images.ala.org.au/image/proxyImageThumbnailLarge?imageId=e87dacb9-a0d7-458c-a18a-ae14cf3294c1'"
      ]
     },
     "execution_count": 18,
     "metadata": {},
     "output_type": "execute_result"
    }
   ],
   "source": [
    "inputdf.iloc[5].url"
   ]
  },
  {
   "cell_type": "code",
   "execution_count": 19,
   "id": "284a5c3d",
   "metadata": {
    "scrolled": true
   },
   "outputs": [
    {
     "name": "stdout",
     "output_type": "stream",
     "text": [
      "Collecting selenium\n",
      "  Downloading selenium-4.9.1-py3-none-any.whl (6.6 MB)\n",
      "Collecting trio~=0.17\n",
      "  Downloading trio-0.22.0-py3-none-any.whl (384 kB)\n",
      "Requirement already satisfied: urllib3[socks]<3,>=1.26 in c:\\users\\tusha\\appdata\\local\\programs\\python\\python37\\lib\\site-packages (from selenium) (1.26.14)\n",
      "Requirement already satisfied: certifi>=2021.10.8 in c:\\users\\tusha\\appdata\\local\\programs\\python\\python37\\lib\\site-packages (from selenium) (2022.12.7)\n",
      "Collecting trio-websocket~=0.9\n",
      "  Downloading trio_websocket-0.10.2-py3-none-any.whl (17 kB)\n",
      "Collecting sortedcontainers\n",
      "  Downloading sortedcontainers-2.4.0-py2.py3-none-any.whl (29 kB)\n",
      "Requirement already satisfied: sniffio in c:\\users\\tusha\\appdata\\local\\programs\\python\\python37\\lib\\site-packages (from trio~=0.17->selenium) (1.3.0)\n",
      "Requirement already satisfied: idna in c:\\users\\tusha\\appdata\\local\\programs\\python\\python37\\lib\\site-packages (from trio~=0.17->selenium) (3.4)\n",
      "Collecting exceptiongroup>=1.0.0rc9; python_version < \"3.11\"\n",
      "  Downloading exceptiongroup-1.1.1-py3-none-any.whl (14 kB)\n",
      "Collecting outcome\n",
      "  Downloading outcome-1.2.0-py2.py3-none-any.whl (9.7 kB)\n",
      "Requirement already satisfied: attrs>=19.2.0 in c:\\users\\tusha\\appdata\\local\\programs\\python\\python37\\lib\\site-packages (from trio~=0.17->selenium) (22.2.0)\n",
      "Requirement already satisfied: cffi>=1.14; os_name == \"nt\" and implementation_name != \"pypy\" in c:\\users\\tusha\\appdata\\local\\programs\\python\\python37\\lib\\site-packages (from trio~=0.17->selenium) (1.15.1)\n",
      "Collecting async-generator>=1.9\n",
      "  Downloading async_generator-1.10-py3-none-any.whl (18 kB)\n",
      "Collecting PySocks!=1.5.7,<2.0,>=1.5.6; extra == \"socks\"\n",
      "  Downloading PySocks-1.7.1-py3-none-any.whl (16 kB)\n",
      "Collecting wsproto>=0.14\n",
      "  Downloading wsproto-1.2.0-py3-none-any.whl (24 kB)\n",
      "Requirement already satisfied: pycparser in c:\\users\\tusha\\appdata\\local\\programs\\python\\python37\\lib\\site-packages (from cffi>=1.14; os_name == \"nt\" and implementation_name != \"pypy\"->trio~=0.17->selenium) (2.21)\n",
      "Collecting h11<1,>=0.9.0\n",
      "  Downloading h11-0.14.0-py3-none-any.whl (58 kB)\n",
      "Requirement already satisfied: typing-extensions; python_version < \"3.8\" in c:\\users\\tusha\\appdata\\local\\programs\\python\\python37\\lib\\site-packages (from h11<1,>=0.9.0->wsproto>=0.14->trio-websocket~=0.9->selenium) (4.5.0)\n",
      "Installing collected packages: sortedcontainers, exceptiongroup, outcome, async-generator, trio, h11, wsproto, trio-websocket, selenium, PySocks\n",
      "Successfully installed PySocks-1.7.1 async-generator-1.10 exceptiongroup-1.1.1 h11-0.14.0 outcome-1.2.0 selenium-4.9.1 sortedcontainers-2.4.0 trio-0.22.0 trio-websocket-0.10.2 wsproto-1.2.0\n"
     ]
    },
    {
     "name": "stderr",
     "output_type": "stream",
     "text": [
      "WARNING: You are using pip version 20.1.1; however, version 23.1.2 is available.\n",
      "You should consider upgrading via the 'c:\\users\\tusha\\documents\\personal projects\\projenv\\scripts\\python.exe -m pip install --upgrade pip' command.\n"
     ]
    }
   ],
   "source": [
    "#to run pythia js scripts in python\n",
    "!pip install selenium"
   ]
  },
  {
   "cell_type": "code",
   "execution_count": 20,
   "id": "07d29d7a",
   "metadata": {},
   "outputs": [],
   "source": [
    "import urllib.request\n",
    "import requests\n",
    "from PIL import Image\n",
    "from selenium import webdriver\n",
    "from selenium.webdriver.common.by import By\n",
    "from selenium.webdriver.common.keys import Keys\n",
    "from selenium.webdriver.common.desired_capabilities import DesiredCapabilities\n",
    "import time"
   ]
  },
  {
   "cell_type": "code",
   "execution_count": 23,
   "id": "8a253a81",
   "metadata": {},
   "outputs": [],
   "source": [
    "#Try Pythia\n",
    "# for i in range(0, len(inputdf[:1])):\n",
    "#     file_name = \"img{}.jpg\".format(i)\n",
    "#     img_data = requests.get(inputdf.iloc[i].url, file_name).content\n",
    "#     with open(file_name, 'wb') as handler:\n",
    "#         handler.write(img_data)\n",
    "\n",
    "#image file needs to be downloaded from url (in progress)\n",
    "imgurl = inputdf.iloc[0].url\n",
    "picture_req = requests.get(imgurl)\n",
    "if picture_req.status_code == 200:\n",
    "    with open(\"D:\\Databases\\Earth Guardian's Weekly Feed\\Elasmobranchii\\downloaded_images\\img.jpg\", 'wb') as f:\n",
    "        f.write(picture_req.content)\n",
    "\n",
    "driver = webdriver.Chrome()\n",
    "driver.get('http://fathomnet.org:7777/')\n",
    "#upload image\n",
    "driver.find_element(By.XPATH, '//input[@id=\"file_upload\"]').send_keys(\"D:\\Databases\\Earth Guardian's Weekly Feed\\Elasmobranchii\\downloaded_images\\img.jpg\")\n",
    "\n",
    "driver.find_element(By.XPATH, '//input[@id=\"runAlgoButton\"]').click()\n"
   ]
  },
  {
   "cell_type": "code",
   "execution_count": 22,
   "id": "624c744a",
   "metadata": {},
   "outputs": [],
   "source": [
    "driver = webdriver.Chrome()\n",
    "driver.get('http://fathomnet.org:7777/')\n",
    "driver.find_element(By.XPATH, '//input[@id=\"file_upload\"]').send_keys(\"D:/Databases/test.jpg\")\n",
    "\n",
    "driver.find_element(By.XPATH, '//input[@id=\"runAlgoButton\"]').click()\n",
    "time.sleep(5)\n",
    "\n",
    "#returns text object instead of element\n",
    "# driver.find_element(By.XPATH, '(//strong/following-sibling::text())')"
   ]
  }
 ],
 "metadata": {
  "kernelspec": {
   "display_name": "projenv",
   "language": "python",
   "name": "projenv"
  },
  "language_info": {
   "codemirror_mode": {
    "name": "ipython",
    "version": 3
   },
   "file_extension": ".py",
   "mimetype": "text/x-python",
   "name": "python",
   "nbconvert_exporter": "python",
   "pygments_lexer": "ipython3",
   "version": "3.7.9"
  }
 },
 "nbformat": 4,
 "nbformat_minor": 5
}
